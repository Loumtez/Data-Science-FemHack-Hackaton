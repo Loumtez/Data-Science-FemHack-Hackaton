{
 "cells": [
  {
   "cell_type": "code",
   "execution_count": 388,
   "metadata": {},
   "outputs": [],
   "source": [
    "#Import libraries and data\n",
    "\n",
    "import pandas as pd\n",
    "import matplotlib.pyplot as plt\n",
    "import re\n",
    "from string import punctuation\n",
    "\n",
    "df_test= pd.read_csv('test.csv')\n",
    "df_train= pd.read_csv('train.csv')\n"
   ]
  },
  {
   "cell_type": "code",
   "execution_count": 409,
   "metadata": {},
   "outputs": [
    {
     "data": {
      "text/html": [
       "<div>\n",
       "<style scoped>\n",
       "    .dataframe tbody tr th:only-of-type {\n",
       "        vertical-align: middle;\n",
       "    }\n",
       "\n",
       "    .dataframe tbody tr th {\n",
       "        vertical-align: top;\n",
       "    }\n",
       "\n",
       "    .dataframe thead th {\n",
       "        text-align: right;\n",
       "    }\n",
       "</style>\n",
       "<table border=\"1\" class=\"dataframe\">\n",
       "  <thead>\n",
       "    <tr style=\"text-align: right;\">\n",
       "      <th></th>\n",
       "      <th>train_idx</th>\n",
       "      <th>title</th>\n",
       "      <th>description</th>\n",
       "      <th>target</th>\n",
       "      <th>creator_name</th>\n",
       "      <th>creator_location</th>\n",
       "      <th>supporters</th>\n",
       "      <th>created_date</th>\n",
       "      <th>banner_image</th>\n",
       "      <th>full_content</th>\n",
       "      <th>victory_flag</th>\n",
       "      <th>created_year</th>\n",
       "      <th>target_encoded</th>\n",
       "      <th>creator_name_encoded</th>\n",
       "      <th>creator_location_encoded</th>\n",
       "    </tr>\n",
       "  </thead>\n",
       "  <tbody>\n",
       "    <tr>\n",
       "      <th>0</th>\n",
       "      <td>0</td>\n",
       "      <td>Stop Iran Regime from Chairing U​.​N. Human Ri...</td>\n",
       "      <td>Rights Council 2023 Social Forum. This year's ...</td>\n",
       "      <td>['António Guterres']</td>\n",
       "      <td>UN Watch</td>\n",
       "      <td>Geneva, Switzerland</td>\n",
       "      <td>80515</td>\n",
       "      <td>10 May 2023</td>\n",
       "      <td>https://assets.change.org/photos/2/ur/wj/vrUrW...</td>\n",
       "      <td>No Joke: The Islamic Republic of Iran has just...</td>\n",
       "      <td>0</td>\n",
       "      <td>2023</td>\n",
       "      <td>96</td>\n",
       "      <td>1643</td>\n",
       "      <td>287</td>\n",
       "    </tr>\n",
       "    <tr>\n",
       "      <th>1</th>\n",
       "      <td>1</td>\n",
       "      <td>Save Children In Poverty In Syria</td>\n",
       "      <td>Children in Syria are facing extreme poverty. ...</td>\n",
       "      <td>['UNICEF']</td>\n",
       "      <td>Maialen Alawam</td>\n",
       "      <td>Watertown, MA, United States</td>\n",
       "      <td>23871</td>\n",
       "      <td>25 Jun 2020</td>\n",
       "      <td>https:https://static.change.org/images/default...</td>\n",
       "      <td>Children in Syria are facing extreme poverty. ...</td>\n",
       "      <td>0</td>\n",
       "      <td>2020</td>\n",
       "      <td>1510</td>\n",
       "      <td>1064</td>\n",
       "      <td>822</td>\n",
       "    </tr>\n",
       "    <tr>\n",
       "      <th>2</th>\n",
       "      <td>2</td>\n",
       "      <td>Save Duke Ellington School Of The Arts</td>\n",
       "      <td>NaN</td>\n",
       "      <td>NaN</td>\n",
       "      <td>It’s Me Tivoni</td>\n",
       "      <td>United States</td>\n",
       "      <td>4051</td>\n",
       "      <td>Nov. 20, 2022</td>\n",
       "      <td>https://assets.change.org/photos/8/ab/hv/DZaBH...</td>\n",
       "      <td>Save Duke Ellington School Of The ArtsTivoni H...</td>\n",
       "      <td>0</td>\n",
       "      <td>2022</td>\n",
       "      <td>1672</td>\n",
       "      <td>733</td>\n",
       "      <td>785</td>\n",
       "    </tr>\n",
       "    <tr>\n",
       "      <th>3</th>\n",
       "      <td>3</td>\n",
       "      <td>Mobile operators are creating inequality</td>\n",
       "      <td>In India, after Reliance Jio (a 4G only mobile...</td>\n",
       "      <td>['Telecom Regulatory Authority of India', 'CEL...</td>\n",
       "      <td>Swastik Raj Chauhan</td>\n",
       "      <td>Ghaziabad, India</td>\n",
       "      <td>350</td>\n",
       "      <td>Oct 15, 2017</td>\n",
       "      <td>https://assets.change.org/photos/7/by/in/Kzbyi...</td>\n",
       "      <td>In India, after Reliance Jio (a 4G only mobile...</td>\n",
       "      <td>0</td>\n",
       "      <td>2017</td>\n",
       "      <td>1385</td>\n",
       "      <td>1573</td>\n",
       "      <td>294</td>\n",
       "    </tr>\n",
       "    <tr>\n",
       "      <th>4</th>\n",
       "      <td>4</td>\n",
       "      <td>Grant Military Burial Honors to Women WWII Pilots</td>\n",
       "      <td>During World War II, a brave group of women jo...</td>\n",
       "      <td>['U.S. Senate']</td>\n",
       "      <td>Tiffany Miller @tiffbmiller</td>\n",
       "      <td>Walnut Creek, CA, United States</td>\n",
       "      <td>176092</td>\n",
       "      <td>2 Dec 2015</td>\n",
       "      <td>https://assets.change.org/photos/3/lh/jc/TmLhJ...</td>\n",
       "      <td>During World War II, a brave group of women jo...</td>\n",
       "      <td>1</td>\n",
       "      <td>2015</td>\n",
       "      <td>1493</td>\n",
       "      <td>1617</td>\n",
       "      <td>809</td>\n",
       "    </tr>\n",
       "  </tbody>\n",
       "</table>\n",
       "</div>"
      ],
      "text/plain": [
       "   train_idx                                              title  \\\n",
       "0          0  Stop Iran Regime from Chairing U​.​N. Human Ri...   \n",
       "1          1                  Save Children In Poverty In Syria   \n",
       "2          2             Save Duke Ellington School Of The Arts   \n",
       "3          3           Mobile operators are creating inequality   \n",
       "4          4  Grant Military Burial Honors to Women WWII Pilots   \n",
       "\n",
       "                                         description  \\\n",
       "0  Rights Council 2023 Social Forum. This year's ...   \n",
       "1  Children in Syria are facing extreme poverty. ...   \n",
       "2                                                NaN   \n",
       "3  In India, after Reliance Jio (a 4G only mobile...   \n",
       "4  During World War II, a brave group of women jo...   \n",
       "\n",
       "                                              target  \\\n",
       "0                               ['António Guterres']   \n",
       "1                                         ['UNICEF']   \n",
       "2                                                NaN   \n",
       "3  ['Telecom Regulatory Authority of India', 'CEL...   \n",
       "4                                    ['U.S. Senate']   \n",
       "\n",
       "                  creator_name                 creator_location  supporters  \\\n",
       "0                     UN Watch              Geneva, Switzerland       80515   \n",
       "1               Maialen Alawam     Watertown, MA, United States       23871   \n",
       "2               It’s Me Tivoni                    United States        4051   \n",
       "3          Swastik Raj Chauhan                 Ghaziabad, India         350   \n",
       "4  Tiffany Miller @tiffbmiller  Walnut Creek, CA, United States      176092   \n",
       "\n",
       "    created_date                                       banner_image  \\\n",
       "0    10 May 2023  https://assets.change.org/photos/2/ur/wj/vrUrW...   \n",
       "1    25 Jun 2020  https:https://static.change.org/images/default...   \n",
       "2  Nov. 20, 2022  https://assets.change.org/photos/8/ab/hv/DZaBH...   \n",
       "3   Oct 15, 2017  https://assets.change.org/photos/7/by/in/Kzbyi...   \n",
       "4     2 Dec 2015  https://assets.change.org/photos/3/lh/jc/TmLhJ...   \n",
       "\n",
       "                                        full_content  victory_flag  \\\n",
       "0  No Joke: The Islamic Republic of Iran has just...             0   \n",
       "1  Children in Syria are facing extreme poverty. ...             0   \n",
       "2  Save Duke Ellington School Of The ArtsTivoni H...             0   \n",
       "3  In India, after Reliance Jio (a 4G only mobile...             0   \n",
       "4  During World War II, a brave group of women jo...             1   \n",
       "\n",
       "  created_year  target_encoded  creator_name_encoded  creator_location_encoded  \n",
       "0         2023              96                  1643                       287  \n",
       "1         2020            1510                  1064                       822  \n",
       "2         2022            1672                   733                       785  \n",
       "3         2017            1385                  1573                       294  \n",
       "4         2015            1493                  1617                       809  "
      ]
     },
     "execution_count": 409,
     "metadata": {},
     "output_type": "execute_result"
    }
   ],
   "source": [
    "#Dataframe visualisation\n",
    "df_train.head()"
   ]
  },
  {
   "cell_type": "code",
   "execution_count": 382,
   "metadata": {},
   "outputs": [
    {
     "name": "stdout",
     "output_type": "stream",
     "text": [
      "1965\n"
     ]
    },
    {
     "data": {
      "text/plain": [
       "description         117\n",
       "target              117\n",
       "creator_location     12\n",
       "full_content         12\n",
       "dtype: int64"
      ]
     },
     "execution_count": 382,
     "metadata": {},
     "output_type": "execute_result"
    }
   ],
   "source": [
    "# Obtaining the number of null values\n",
    "number_rows_with_nulls = print(len(df_train.index))\n",
    "df_train.isna().sum()[df_train.isna().sum() > 0]"
   ]
  },
  {
   "attachments": {},
   "cell_type": "markdown",
   "metadata": {},
   "source": [
    "### Data Pre-processing"
   ]
  },
  {
   "cell_type": "code",
   "execution_count": 423,
   "metadata": {},
   "outputs": [
    {
     "data": {
      "text/plain": [
       "1826"
      ]
     },
     "execution_count": 423,
     "metadata": {},
     "output_type": "execute_result"
    }
   ],
   "source": [
    "# Deleting null values\n",
    "df_train.dropna(inplace=True)\n",
    "len(df_train.index)"
   ]
  },
  {
   "cell_type": "code",
   "execution_count": 426,
   "metadata": {},
   "outputs": [
    {
     "data": {
      "text/plain": [
       "0    1552\n",
       "1     274\n",
       "Name: victory_flag, dtype: int64"
      ]
     },
     "execution_count": 426,
     "metadata": {},
     "output_type": "execute_result"
    }
   ],
   "source": [
    "df_train['victory_flag'].value_counts()\n",
    "#The class distribution is not similar, so it is imbalanced. Decision trees algorithms frequently perform well on imbalanced data, so take it into account"
   ]
  },
  {
   "cell_type": "code",
   "execution_count": 401,
   "metadata": {},
   "outputs": [
    {
     "name": "stderr",
     "output_type": "stream",
     "text": [
      "C:\\Users\\louma\\AppData\\Local\\Temp\\ipykernel_11684\\897442642.py:3: FutureWarning: The default value of regex will change from True to False in a future version.\n",
      "  df_train['created_date'] = df_train['created_date'].str.replace(' г.', ' ')\n",
      "C:\\Users\\louma\\AppData\\Local\\Temp\\ipykernel_11684\\897442642.py:7: FutureWarning: The default value of regex will change from True to False in a future version.\n",
      "  df_test['created_date'] = df_test['created_date'].str.replace(' г.', ' ')\n"
     ]
    }
   ],
   "source": [
    "#Select only the year of the petition for taking into account\n",
    "df_train['created_date'] = df_train['created_date'].str.replace('-', ' ')\n",
    "df_train['created_date'] = df_train['created_date'].str.replace(' г.', ' ')\n",
    "df_train['created_year'] = df_train['created_date'].str.split().str[-1]\n",
    "\n",
    "df_test['created_date'] = df_test['created_date'].str.replace('-', ' ')\n",
    "df_test['created_date'] = df_test['created_date'].str.replace(' г.', ' ')\n",
    "df_test['created_year'] = df_test['created_date'].str.split().str[-1]"
   ]
  },
  {
   "cell_type": "code",
   "execution_count": 402,
   "metadata": {},
   "outputs": [],
   "source": [
    "#Encode categorical variables\n",
    "from sklearn.preprocessing import LabelEncoder\n",
    "\n",
    "label_encoder = LabelEncoder()\n",
    "\n",
    "# Transform the columns in the training set\n",
    "df_train['target_encoded'] = label_encoder.fit_transform(df_train['target'])\n",
    "df_train['creator_name_encoded'] = label_encoder.fit_transform(df_train['creator_name'])\n",
    "df_train['creator_location_encoded'] = label_encoder.fit_transform(df_train['creator_location'])\n",
    "\n",
    "\n",
    "# Transform the columns in the test set\n",
    "df_test['target_encoded'] = label_encoder.fit_transform(df_test['target'])\n",
    "df_test['creator_name_encoded'] = label_encoder.fit_transform(df_test['creator_name'])\n",
    "df_test['creator_location_encoded'] = label_encoder.fit_transform(df_test['creator_location'])"
   ]
  },
  {
   "cell_type": "code",
   "execution_count": 403,
   "metadata": {},
   "outputs": [],
   "source": [
    "# Select the features (X) and target variable (y)\n",
    "X_train = df_train[['target_encoded', 'creator_name_encoded', 'creator_location_encoded','created_year', 'supporters']]\n",
    "y_train = df_train['victory_flag']\n",
    "\n",
    "X_test = df_test[['target_encoded', 'creator_name_encoded', 'creator_location_encoded','created_year', 'supporters']]\n"
   ]
  },
  {
   "attachments": {},
   "cell_type": "markdown",
   "metadata": {},
   "source": [
    "### Model training"
   ]
  },
  {
   "cell_type": "code",
   "execution_count": 404,
   "metadata": {},
   "outputs": [
    {
     "data": {
      "text/html": [
       "<style>#sk-container-id-7 {color: black;}#sk-container-id-7 pre{padding: 0;}#sk-container-id-7 div.sk-toggleable {background-color: white;}#sk-container-id-7 label.sk-toggleable__label {cursor: pointer;display: block;width: 100%;margin-bottom: 0;padding: 0.3em;box-sizing: border-box;text-align: center;}#sk-container-id-7 label.sk-toggleable__label-arrow:before {content: \"▸\";float: left;margin-right: 0.25em;color: #696969;}#sk-container-id-7 label.sk-toggleable__label-arrow:hover:before {color: black;}#sk-container-id-7 div.sk-estimator:hover label.sk-toggleable__label-arrow:before {color: black;}#sk-container-id-7 div.sk-toggleable__content {max-height: 0;max-width: 0;overflow: hidden;text-align: left;background-color: #f0f8ff;}#sk-container-id-7 div.sk-toggleable__content pre {margin: 0.2em;color: black;border-radius: 0.25em;background-color: #f0f8ff;}#sk-container-id-7 input.sk-toggleable__control:checked~div.sk-toggleable__content {max-height: 200px;max-width: 100%;overflow: auto;}#sk-container-id-7 input.sk-toggleable__control:checked~label.sk-toggleable__label-arrow:before {content: \"▾\";}#sk-container-id-7 div.sk-estimator input.sk-toggleable__control:checked~label.sk-toggleable__label {background-color: #d4ebff;}#sk-container-id-7 div.sk-label input.sk-toggleable__control:checked~label.sk-toggleable__label {background-color: #d4ebff;}#sk-container-id-7 input.sk-hidden--visually {border: 0;clip: rect(1px 1px 1px 1px);clip: rect(1px, 1px, 1px, 1px);height: 1px;margin: -1px;overflow: hidden;padding: 0;position: absolute;width: 1px;}#sk-container-id-7 div.sk-estimator {font-family: monospace;background-color: #f0f8ff;border: 1px dotted black;border-radius: 0.25em;box-sizing: border-box;margin-bottom: 0.5em;}#sk-container-id-7 div.sk-estimator:hover {background-color: #d4ebff;}#sk-container-id-7 div.sk-parallel-item::after {content: \"\";width: 100%;border-bottom: 1px solid gray;flex-grow: 1;}#sk-container-id-7 div.sk-label:hover label.sk-toggleable__label {background-color: #d4ebff;}#sk-container-id-7 div.sk-serial::before {content: \"\";position: absolute;border-left: 1px solid gray;box-sizing: border-box;top: 0;bottom: 0;left: 50%;z-index: 0;}#sk-container-id-7 div.sk-serial {display: flex;flex-direction: column;align-items: center;background-color: white;padding-right: 0.2em;padding-left: 0.2em;position: relative;}#sk-container-id-7 div.sk-item {position: relative;z-index: 1;}#sk-container-id-7 div.sk-parallel {display: flex;align-items: stretch;justify-content: center;background-color: white;position: relative;}#sk-container-id-7 div.sk-item::before, #sk-container-id-7 div.sk-parallel-item::before {content: \"\";position: absolute;border-left: 1px solid gray;box-sizing: border-box;top: 0;bottom: 0;left: 50%;z-index: -1;}#sk-container-id-7 div.sk-parallel-item {display: flex;flex-direction: column;z-index: 1;position: relative;background-color: white;}#sk-container-id-7 div.sk-parallel-item:first-child::after {align-self: flex-end;width: 50%;}#sk-container-id-7 div.sk-parallel-item:last-child::after {align-self: flex-start;width: 50%;}#sk-container-id-7 div.sk-parallel-item:only-child::after {width: 0;}#sk-container-id-7 div.sk-dashed-wrapped {border: 1px dashed gray;margin: 0 0.4em 0.5em 0.4em;box-sizing: border-box;padding-bottom: 0.4em;background-color: white;}#sk-container-id-7 div.sk-label label {font-family: monospace;font-weight: bold;display: inline-block;line-height: 1.2em;}#sk-container-id-7 div.sk-label-container {text-align: center;}#sk-container-id-7 div.sk-container {/* jupyter's `normalize.less` sets `[hidden] { display: none; }` but bootstrap.min.css set `[hidden] { display: none !important; }` so we also need the `!important` here to be able to override the default hidden behavior on the sphinx rendered scikit-learn.org. See: https://github.com/scikit-learn/scikit-learn/issues/21755 */display: inline-block !important;position: relative;}#sk-container-id-7 div.sk-text-repr-fallback {display: none;}</style><div id=\"sk-container-id-7\" class=\"sk-top-container\"><div class=\"sk-text-repr-fallback\"><pre>DecisionTreeClassifier(random_state=0)</pre><b>In a Jupyter environment, please rerun this cell to show the HTML representation or trust the notebook. <br />On GitHub, the HTML representation is unable to render, please try loading this page with nbviewer.org.</b></div><div class=\"sk-container\" hidden><div class=\"sk-item\"><div class=\"sk-estimator sk-toggleable\"><input class=\"sk-toggleable__control sk-hidden--visually\" id=\"sk-estimator-id-7\" type=\"checkbox\" checked><label for=\"sk-estimator-id-7\" class=\"sk-toggleable__label sk-toggleable__label-arrow\">DecisionTreeClassifier</label><div class=\"sk-toggleable__content\"><pre>DecisionTreeClassifier(random_state=0)</pre></div></div></div></div></div>"
      ],
      "text/plain": [
       "DecisionTreeClassifier(random_state=0)"
      ]
     },
     "execution_count": 404,
     "metadata": {},
     "output_type": "execute_result"
    }
   ],
   "source": [
    "from sklearn.tree import DecisionTreeClassifier\n",
    "\n",
    "classifier = DecisionTreeClassifier()\n",
    "\n",
    "# Train the classifier on the training data\n",
    "classifier.fit(X_train, y_train)\n",
    "\n",
    "# Load the trained decision tree model\n",
    "dtc = tree.DecisionTreeClassifier(random_state=0)\n",
    "dtc.fit(X_train, y_train)"
   ]
  },
  {
   "cell_type": "code",
   "execution_count": 420,
   "metadata": {},
   "outputs": [
    {
     "name": "stdout",
     "output_type": "stream",
     "text": [
      "Accuracy of Decision Tree classifier on training set: 0.86\n",
      "Accuracy of Logistic regression classifier on training set: 0.86\n",
      "Accuracy of K-NN classifier on training set: 0.86\n",
      "Accuracy of LDA classifier on training set: 0.88\n",
      "Accuracy of GNB classifier on training set: 0.85\n",
      "Accuracy of SVM classifier on training set: 0.86\n"
     ]
    }
   ],
   "source": [
    "from sklearn.tree import DecisionTreeClassifier\n",
    "# Train the classifier on the training data\n",
    "classifier = DecisionTreeClassifier()\n",
    "# Load the trained decision tree model\n",
    "dtc = tree.DecisionTreeClassifier(random_state=0)\n",
    "dtc.fit(X_train, y_train)\n",
    "print('Accuracy of Decision Tree classifier on training set: {:.2f}'.format(logreg.score(X_train, y_train)))\n",
    "\n",
    "#Checking other algorithms for model training\n",
    "from sklearn.linear_model import LogisticRegression\n",
    "logreg = LogisticRegression()\n",
    "logreg.fit(X_train, y_train)\n",
    "print('Accuracy of Logistic regression classifier on training set: {:.2f}'.format(logreg.score(X_train, y_train)))\n",
    "\n",
    "from sklearn.neighbors import KNeighborsClassifier\n",
    "knn = KNeighborsClassifier()\n",
    "knn.fit(X_train, y_train)\n",
    "print('Accuracy of K-NN classifier on training set: {:.2f}'.format(knn.score(X_train, y_train)))\n",
    "\n",
    "from sklearn.discriminant_analysis import LinearDiscriminantAnalysis\n",
    "lda = LinearDiscriminantAnalysis()\n",
    "lda.fit(X_train, y_train)\n",
    "print('Accuracy of LDA classifier on training set: {:.2f}'.format(lda.score(X_train, y_train)))\n",
    "\n",
    "from sklearn.naive_bayes import GaussianNB\n",
    "gnb = GaussianNB()\n",
    "gnb.fit(X_train, y_train)\n",
    "print('Accuracy of GNB classifier on training set: {:.2f}'.format(gnb.score(X_train, y_train)))\n",
    "\n",
    "from sklearn.svm import SVC\n",
    "svm = SVC()\n",
    "svm.fit(X_train, y_train)\n",
    "print('Accuracy of SVM classifier on training set: {:.2f}'.format(svm.score(X_train, y_train)))"
   ]
  },
  {
   "attachments": {},
   "cell_type": "markdown",
   "metadata": {},
   "source": [
    "### Model prediction\n",
    "\n",
    "Finally, the Decision Tree algorithm was selected."
   ]
  },
  {
   "cell_type": "code",
   "execution_count": 421,
   "metadata": {},
   "outputs": [],
   "source": [
    "# Make predictions on the test data\n",
    "victory_flag_prediction = dtc.predict(X_test)\n",
    "\n",
    "# Save the predictions as the target value to predict\n",
    "y_label = victory_flag_prediction \n",
    "\n",
    "# Create a new DataFrame with the predictions\n",
    "df_victory_flag_prediction = pd.DataFrame({'victory_flag_prediction': victory_flag_prediction})\n",
    "\n",
    "# Save the predictions to a CSV file\n",
    "df_victory_flag_prediction.to_csv('victory_flag_prediction.csv', index=False)"
   ]
  },
  {
   "attachments": {},
   "cell_type": "markdown",
   "metadata": {},
   "source": [
    "#### Save results"
   ]
  },
  {
   "cell_type": "code",
   "execution_count": 427,
   "metadata": {},
   "outputs": [],
   "source": [
    "# Create a new dataframe to store the predictions\n",
    "df_predictions = pd.DataFrame({'test_idx': df_test['test_idx'],'victory_flag_prediction': victory_flag_prediction})\n",
    "\n",
    "# Save the predictions to a CSV file\n",
    "df_predictions.to_csv('predictions.csv', index=False)"
   ]
  }
 ],
 "metadata": {
  "kernelspec": {
   "display_name": "Python 3",
   "language": "python",
   "name": "python3"
  },
  "language_info": {
   "codemirror_mode": {
    "name": "ipython",
    "version": 3
   },
   "file_extension": ".py",
   "mimetype": "text/x-python",
   "name": "python",
   "nbconvert_exporter": "python",
   "pygments_lexer": "ipython3",
   "version": "3.9.13"
  },
  "orig_nbformat": 4
 },
 "nbformat": 4,
 "nbformat_minor": 2
}
