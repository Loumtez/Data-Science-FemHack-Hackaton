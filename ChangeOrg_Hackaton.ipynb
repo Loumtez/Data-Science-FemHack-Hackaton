{
 "cells": [
  {
   "cell_type": "code",
   "execution_count": 2,
   "metadata": {},
   "outputs": [],
   "source": [
    "#Import libraries and data\n",
    "\n",
    "import pandas as pd\n",
    "import matplotlib.pyplot as plt\n",
    "import re\n",
    "import warnings\n",
    "warnings.filterwarnings('ignore')\n",
    "\n",
    "df_test= pd.read_csv('test.csv')\n",
    "df_train= pd.read_csv('train.csv')\n"
   ]
  },
  {
   "cell_type": "code",
   "execution_count": 3,
   "metadata": {},
   "outputs": [
    {
     "data": {
      "text/html": [
       "<div>\n",
       "<style scoped>\n",
       "    .dataframe tbody tr th:only-of-type {\n",
       "        vertical-align: middle;\n",
       "    }\n",
       "\n",
       "    .dataframe tbody tr th {\n",
       "        vertical-align: top;\n",
       "    }\n",
       "\n",
       "    .dataframe thead th {\n",
       "        text-align: right;\n",
       "    }\n",
       "</style>\n",
       "<table border=\"1\" class=\"dataframe\">\n",
       "  <thead>\n",
       "    <tr style=\"text-align: right;\">\n",
       "      <th></th>\n",
       "      <th>train_idx</th>\n",
       "      <th>title</th>\n",
       "      <th>description</th>\n",
       "      <th>target</th>\n",
       "      <th>creator_name</th>\n",
       "      <th>creator_location</th>\n",
       "      <th>supporters</th>\n",
       "      <th>created_date</th>\n",
       "      <th>banner_image</th>\n",
       "      <th>full_content</th>\n",
       "      <th>victory_flag</th>\n",
       "    </tr>\n",
       "  </thead>\n",
       "  <tbody>\n",
       "    <tr>\n",
       "      <th>0</th>\n",
       "      <td>0</td>\n",
       "      <td>Stop Iran Regime from Chairing U​.​N. Human Ri...</td>\n",
       "      <td>Rights Council 2023 Social Forum. This year's ...</td>\n",
       "      <td>['António Guterres']</td>\n",
       "      <td>UN Watch</td>\n",
       "      <td>Geneva, Switzerland</td>\n",
       "      <td>80515</td>\n",
       "      <td>10 May 2023</td>\n",
       "      <td>https://assets.change.org/photos/2/ur/wj/vrUrW...</td>\n",
       "      <td>No Joke: The Islamic Republic of Iran has just...</td>\n",
       "      <td>0</td>\n",
       "    </tr>\n",
       "    <tr>\n",
       "      <th>1</th>\n",
       "      <td>1</td>\n",
       "      <td>Save Children In Poverty In Syria</td>\n",
       "      <td>Children in Syria are facing extreme poverty. ...</td>\n",
       "      <td>['UNICEF']</td>\n",
       "      <td>Maialen Alawam</td>\n",
       "      <td>Watertown, MA, United States</td>\n",
       "      <td>23871</td>\n",
       "      <td>25 Jun 2020</td>\n",
       "      <td>https:https://static.change.org/images/default...</td>\n",
       "      <td>Children in Syria are facing extreme poverty. ...</td>\n",
       "      <td>0</td>\n",
       "    </tr>\n",
       "    <tr>\n",
       "      <th>2</th>\n",
       "      <td>2</td>\n",
       "      <td>Save Duke Ellington School Of The Arts</td>\n",
       "      <td>NaN</td>\n",
       "      <td>NaN</td>\n",
       "      <td>It’s Me Tivoni</td>\n",
       "      <td>United States</td>\n",
       "      <td>4051</td>\n",
       "      <td>Nov. 20, 2022</td>\n",
       "      <td>https://assets.change.org/photos/8/ab/hv/DZaBH...</td>\n",
       "      <td>Save Duke Ellington School Of The ArtsTivoni H...</td>\n",
       "      <td>0</td>\n",
       "    </tr>\n",
       "    <tr>\n",
       "      <th>3</th>\n",
       "      <td>3</td>\n",
       "      <td>Mobile operators are creating inequality</td>\n",
       "      <td>In India, after Reliance Jio (a 4G only mobile...</td>\n",
       "      <td>['Telecom Regulatory Authority of India', 'CEL...</td>\n",
       "      <td>Swastik Raj Chauhan</td>\n",
       "      <td>Ghaziabad, India</td>\n",
       "      <td>350</td>\n",
       "      <td>Oct 15, 2017</td>\n",
       "      <td>https://assets.change.org/photos/7/by/in/Kzbyi...</td>\n",
       "      <td>In India, after Reliance Jio (a 4G only mobile...</td>\n",
       "      <td>0</td>\n",
       "    </tr>\n",
       "    <tr>\n",
       "      <th>4</th>\n",
       "      <td>4</td>\n",
       "      <td>Grant Military Burial Honors to Women WWII Pilots</td>\n",
       "      <td>During World War II, a brave group of women jo...</td>\n",
       "      <td>['U.S. Senate']</td>\n",
       "      <td>Tiffany Miller @tiffbmiller</td>\n",
       "      <td>Walnut Creek, CA, United States</td>\n",
       "      <td>176092</td>\n",
       "      <td>2 Dec 2015</td>\n",
       "      <td>https://assets.change.org/photos/3/lh/jc/TmLhJ...</td>\n",
       "      <td>During World War II, a brave group of women jo...</td>\n",
       "      <td>1</td>\n",
       "    </tr>\n",
       "  </tbody>\n",
       "</table>\n",
       "</div>"
      ],
      "text/plain": [
       "   train_idx                                              title  \\\n",
       "0          0  Stop Iran Regime from Chairing U​.​N. Human Ri...   \n",
       "1          1                  Save Children In Poverty In Syria   \n",
       "2          2             Save Duke Ellington School Of The Arts   \n",
       "3          3           Mobile operators are creating inequality   \n",
       "4          4  Grant Military Burial Honors to Women WWII Pilots   \n",
       "\n",
       "                                         description  \\\n",
       "0  Rights Council 2023 Social Forum. This year's ...   \n",
       "1  Children in Syria are facing extreme poverty. ...   \n",
       "2                                                NaN   \n",
       "3  In India, after Reliance Jio (a 4G only mobile...   \n",
       "4  During World War II, a brave group of women jo...   \n",
       "\n",
       "                                              target  \\\n",
       "0                               ['António Guterres']   \n",
       "1                                         ['UNICEF']   \n",
       "2                                                NaN   \n",
       "3  ['Telecom Regulatory Authority of India', 'CEL...   \n",
       "4                                    ['U.S. Senate']   \n",
       "\n",
       "                  creator_name                 creator_location  supporters  \\\n",
       "0                     UN Watch              Geneva, Switzerland       80515   \n",
       "1               Maialen Alawam     Watertown, MA, United States       23871   \n",
       "2               It’s Me Tivoni                    United States        4051   \n",
       "3          Swastik Raj Chauhan                 Ghaziabad, India         350   \n",
       "4  Tiffany Miller @tiffbmiller  Walnut Creek, CA, United States      176092   \n",
       "\n",
       "    created_date                                       banner_image  \\\n",
       "0    10 May 2023  https://assets.change.org/photos/2/ur/wj/vrUrW...   \n",
       "1    25 Jun 2020  https:https://static.change.org/images/default...   \n",
       "2  Nov. 20, 2022  https://assets.change.org/photos/8/ab/hv/DZaBH...   \n",
       "3   Oct 15, 2017  https://assets.change.org/photos/7/by/in/Kzbyi...   \n",
       "4     2 Dec 2015  https://assets.change.org/photos/3/lh/jc/TmLhJ...   \n",
       "\n",
       "                                        full_content  victory_flag  \n",
       "0  No Joke: The Islamic Republic of Iran has just...             0  \n",
       "1  Children in Syria are facing extreme poverty. ...             0  \n",
       "2  Save Duke Ellington School Of The ArtsTivoni H...             0  \n",
       "3  In India, after Reliance Jio (a 4G only mobile...             0  \n",
       "4  During World War II, a brave group of women jo...             1  "
      ]
     },
     "execution_count": 3,
     "metadata": {},
     "output_type": "execute_result"
    }
   ],
   "source": [
    "#Dataframe visualisation\n",
    "df_train.head()"
   ]
  },
  {
   "cell_type": "code",
   "execution_count": 4,
   "metadata": {},
   "outputs": [
    {
     "name": "stdout",
     "output_type": "stream",
     "text": [
      "1965\n"
     ]
    },
    {
     "data": {
      "text/plain": [
       "description         117\n",
       "target              117\n",
       "creator_location     12\n",
       "full_content         12\n",
       "dtype: int64"
      ]
     },
     "execution_count": 4,
     "metadata": {},
     "output_type": "execute_result"
    }
   ],
   "source": [
    "# Obtaining the number of null values\n",
    "number_rows_with_nulls = print(len(df_train.index))\n",
    "df_train.isna().sum()[df_train.isna().sum() > 0]"
   ]
  },
  {
   "attachments": {},
   "cell_type": "markdown",
   "metadata": {},
   "source": [
    "### Data Pre-processing"
   ]
  },
  {
   "cell_type": "code",
   "execution_count": 5,
   "metadata": {},
   "outputs": [
    {
     "data": {
      "text/plain": [
       "1826"
      ]
     },
     "execution_count": 5,
     "metadata": {},
     "output_type": "execute_result"
    }
   ],
   "source": [
    "# Deleting null values\n",
    "df_train.dropna(inplace=True)\n",
    "len(df_train.index)"
   ]
  },
  {
   "cell_type": "code",
   "execution_count": 7,
   "metadata": {},
   "outputs": [
    {
     "data": {
      "text/plain": [
       "0    1552\n",
       "1     274\n",
       "Name: victory_flag, dtype: int64"
      ]
     },
     "execution_count": 7,
     "metadata": {},
     "output_type": "execute_result"
    }
   ],
   "source": [
    "df_train['victory_flag'].value_counts()\n",
    "#The class distribution is not similar, so it is imbalanced. Decision trees algorithms frequently perform well on imbalanced data, so take it into account"
   ]
  },
  {
   "cell_type": "code",
   "execution_count": 8,
   "metadata": {},
   "outputs": [],
   "source": [
    "#Select only the year of the petition for taking into account\n",
    "df_train['created_date'] = df_train['created_date'].str.replace('-', ' ')\n",
    "df_train['created_date'] = df_train['created_date'].str.replace(' г.', ' ')\n",
    "df_train['created_year'] = df_train['created_date'].str.split().str[-1]\n",
    "\n",
    "df_test['created_date'] = df_test['created_date'].str.replace('-', ' ')\n",
    "df_test['created_date'] = df_test['created_date'].str.replace(' г.', ' ')\n",
    "df_test['created_year'] = df_test['created_date'].str.split().str[-1]"
   ]
  },
  {
   "cell_type": "code",
   "execution_count": 9,
   "metadata": {},
   "outputs": [],
   "source": [
    "#Encode categorical variables\n",
    "from sklearn.preprocessing import LabelEncoder\n",
    "\n",
    "label_encoder = LabelEncoder()\n",
    "\n",
    "# Transform the columns in the training set\n",
    "df_train['target_encoded'] = label_encoder.fit_transform(df_train['target'])\n",
    "df_train['creator_name_encoded'] = label_encoder.fit_transform(df_train['creator_name'])\n",
    "df_train['creator_location_encoded'] = label_encoder.fit_transform(df_train['creator_location'])\n",
    "\n",
    "\n",
    "# Transform the columns in the test set\n",
    "df_test['target_encoded'] = label_encoder.fit_transform(df_test['target'])\n",
    "df_test['creator_name_encoded'] = label_encoder.fit_transform(df_test['creator_name'])\n",
    "df_test['creator_location_encoded'] = label_encoder.fit_transform(df_test['creator_location'])"
   ]
  },
  {
   "cell_type": "code",
   "execution_count": 10,
   "metadata": {},
   "outputs": [],
   "source": [
    "# Select the features (X) and target variable (y)\n",
    "X_train = df_train[['target_encoded', 'creator_name_encoded', 'creator_location_encoded','created_year', 'supporters']]\n",
    "y_train = df_train['victory_flag']\n",
    "\n",
    "X_test = df_test[['target_encoded', 'creator_name_encoded', 'creator_location_encoded','created_year', 'supporters']]\n"
   ]
  },
  {
   "attachments": {},
   "cell_type": "markdown",
   "metadata": {},
   "source": [
    "### Model training"
   ]
  },
  {
   "cell_type": "code",
   "execution_count": 11,
   "metadata": {},
   "outputs": [
    {
     "name": "stdout",
     "output_type": "stream",
     "text": [
      "Accuracy of Decision Tree classifier on training set: 1.00\n",
      "Accuracy of Logistic regression classifier on training set: 0.85\n",
      "Accuracy of K-NN classifier on training set: 0.85\n",
      "Accuracy of LDA classifier on training set: 0.88\n",
      "Accuracy of GNB classifier on training set: 0.84\n",
      "Accuracy of SVM classifier on training set: 0.85\n"
     ]
    }
   ],
   "source": [
    "from sklearn.tree import DecisionTreeClassifier\n",
    "dtc = DecisionTreeClassifier(random_state=0)\n",
    "dtc.fit(X_train, y_train)\n",
    "print('Accuracy of Decision Tree classifier on training set: {:.2f}'.format(dtc.score(X_train, y_train)))\n",
    "\n",
    "#Checking other algorithms for model training\n",
    "from sklearn.linear_model import LogisticRegression\n",
    "logreg = LogisticRegression()\n",
    "logreg.fit(X_train, y_train)\n",
    "print('Accuracy of Logistic regression classifier on training set: {:.2f}'.format(logreg.score(X_train, y_train)))\n",
    "\n",
    "from sklearn.neighbors import KNeighborsClassifier\n",
    "knn = KNeighborsClassifier()\n",
    "knn.fit(X_train, y_train)\n",
    "print('Accuracy of K-NN classifier on training set: {:.2f}'.format(knn.score(X_train, y_train)))\n",
    "\n",
    "from sklearn.discriminant_analysis import LinearDiscriminantAnalysis\n",
    "lda = LinearDiscriminantAnalysis()\n",
    "lda.fit(X_train, y_train)\n",
    "print('Accuracy of LDA classifier on training set: {:.2f}'.format(lda.score(X_train, y_train)))\n",
    "\n",
    "from sklearn.naive_bayes import GaussianNB\n",
    "gnb = GaussianNB()\n",
    "gnb.fit(X_train, y_train)\n",
    "print('Accuracy of GNB classifier on training set: {:.2f}'.format(gnb.score(X_train, y_train)))\n",
    "\n",
    "from sklearn.svm import SVC\n",
    "svm = SVC()\n",
    "svm.fit(X_train, y_train)\n",
    "print('Accuracy of SVM classifier on training set: {:.2f}'.format(svm.score(X_train, y_train)))"
   ]
  },
  {
   "attachments": {},
   "cell_type": "markdown",
   "metadata": {},
   "source": [
    "### Model prediction\n",
    "\n",
    "Finally, the Decision Tree algorithm was selected."
   ]
  },
  {
   "cell_type": "code",
   "execution_count": 12,
   "metadata": {},
   "outputs": [],
   "source": [
    "# Make predictions on the test data\n",
    "victory_flag_prediction = dtc.predict(X_test)\n",
    "\n",
    "# Save the predictions as the target value to predict\n",
    "y_label = victory_flag_prediction \n",
    "\n",
    "# Create a new DataFrame with the predictions\n",
    "df_victory_flag_prediction = pd.DataFrame({'victory_flag_prediction': victory_flag_prediction})\n",
    "\n",
    "# Save the predictions to a CSV file\n",
    "df_victory_flag_prediction.to_csv('victory_flag_prediction.csv', index=False)"
   ]
  },
  {
   "attachments": {},
   "cell_type": "markdown",
   "metadata": {},
   "source": [
    "#### Save results"
   ]
  },
  {
   "cell_type": "code",
   "execution_count": 1,
   "metadata": {},
   "outputs": [
    {
     "ename": "NameError",
     "evalue": "name 'pd' is not defined",
     "output_type": "error",
     "traceback": [
      "\u001b[1;31m---------------------------------------------------------------------------\u001b[0m",
      "\u001b[1;31mNameError\u001b[0m                                 Traceback (most recent call last)",
      "\u001b[1;32m~\\AppData\\Local\\Temp\\ipykernel_11560\\667183145.py\u001b[0m in \u001b[0;36m<module>\u001b[1;34m\u001b[0m\n\u001b[0;32m      1\u001b[0m \u001b[1;31m# Create a new dataframe to store the predictions\u001b[0m\u001b[1;33m\u001b[0m\u001b[1;33m\u001b[0m\u001b[0m\n\u001b[1;32m----> 2\u001b[1;33m \u001b[0mdf_predictions\u001b[0m \u001b[1;33m=\u001b[0m \u001b[0mpd\u001b[0m\u001b[1;33m.\u001b[0m\u001b[0mDataFrame\u001b[0m\u001b[1;33m(\u001b[0m\u001b[1;33m{\u001b[0m\u001b[1;34m'test_idx'\u001b[0m\u001b[1;33m:\u001b[0m \u001b[0mdf_test\u001b[0m\u001b[1;33m[\u001b[0m\u001b[1;34m'test_idx'\u001b[0m\u001b[1;33m]\u001b[0m\u001b[1;33m,\u001b[0m\u001b[1;34m'victory_flag_prediction'\u001b[0m\u001b[1;33m:\u001b[0m \u001b[0mvictory_flag_prediction\u001b[0m\u001b[1;33m}\u001b[0m\u001b[1;33m)\u001b[0m\u001b[1;33m\u001b[0m\u001b[1;33m\u001b[0m\u001b[0m\n\u001b[0m\u001b[0;32m      3\u001b[0m \u001b[1;33m\u001b[0m\u001b[0m\n\u001b[0;32m      4\u001b[0m \u001b[1;31m# Save the predictions to a CSV file\u001b[0m\u001b[1;33m\u001b[0m\u001b[1;33m\u001b[0m\u001b[0m\n\u001b[0;32m      5\u001b[0m \u001b[0mdf_predictions\u001b[0m\u001b[1;33m.\u001b[0m\u001b[0mto_csv\u001b[0m\u001b[1;33m(\u001b[0m\u001b[1;34m'predictions.csv'\u001b[0m\u001b[1;33m,\u001b[0m \u001b[0mindex\u001b[0m\u001b[1;33m=\u001b[0m\u001b[1;32mFalse\u001b[0m\u001b[1;33m)\u001b[0m\u001b[1;33m\u001b[0m\u001b[1;33m\u001b[0m\u001b[0m\n",
      "\u001b[1;31mNameError\u001b[0m: name 'pd' is not defined"
     ]
    }
   ],
   "source": [
    "# Create a new dataframe to store the predictions\n",
    "df_predictions = pd.DataFrame({'test_idx': df_test['test_idx'],'victory_flag_prediction': victory_flag_prediction})\n",
    "\n",
    "# Save the predictions to a CSV file\n",
    "df_predictions.to_csv('predictions.csv', index=False)\n",
    "\n",
    "df_predictions.to_json(r'C:\\Users\\louma\\anaconda3\\envs\\International FemHack Hackathon\\predictions.json')"
   ]
  }
 ],
 "metadata": {
  "kernelspec": {
   "display_name": "Python 3",
   "language": "python",
   "name": "python3"
  },
  "language_info": {
   "codemirror_mode": {
    "name": "ipython",
    "version": 3
   },
   "file_extension": ".py",
   "mimetype": "text/x-python",
   "name": "python",
   "nbconvert_exporter": "python",
   "pygments_lexer": "ipython3",
   "version": "3.9.13"
  },
  "orig_nbformat": 4
 },
 "nbformat": 4,
 "nbformat_minor": 2
}
